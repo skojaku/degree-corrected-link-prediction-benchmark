{
 "cells": [
  {
   "attachments": {},
   "cell_type": "markdown",
   "metadata": {},
   "source": [
    "# Rethinking link prediction \n",
    "\n",
    "The widely accepted link prediction benchmark is inadequate for assessing the precision of link prediction models, which is critical in applications, e.g., a low-precision recommendation system provides many false recommendations, hurting user experience. The inadequacy is attributed to two factors. First, the evaluation metric (AUC-ROC) neglects the practical importance of high-scoring predictions. Second, many false high-scoring predictions are omitted from the evaluation by the sampling of unconnected node pairs. The results presented in this notebook will demonstrate the limitations of current link prediction benchmark (and hopefully to provide some remedies).\n",
    "\n",
    "## What is link prediction? And why it's important?\n",
    "\n",
    "- Link prediction for networks is the task of predicting the connections between pairs of nodes in a network. \n",
    "- Link prediction has many application, such as recommendation systems, fraud detection, and knowledge discoveries. \n",
    "- Additionally, link prediction can be used to test hypotheses about network generation models, and successful link prediction provides insights into the underlying mechanisms that shape network structure. \n",
    "\n",
    "## Prevailing link prediction benchmark \n",
    "\n",
    "- A link prediction algorithm is evaluated based on its ability to predict missing edges that are actually present but not observed in a given network. \n",
    "- To test this, the algorithm is given a training network with missing edges and is required to provide a prediction score $s_{ij}$ for each pair of nodes $i$ and $j$. The higher the score, the greater the likelihood of an edge existing between those two nodes.\n",
    "- Since there are significantly more unconnected nodes than missing edges due to edge sparsity, a subset of unconnected node pairs sampled uniformly at random is used, with the same size as the set of missing edges.\n",
    "- The algorithm is deemed to be a successful link prediction algorithm if the score is higher for the missing edges (green in the figure below) than for the unconnected node pairs (red).\n",
    "- The overlap of the distributions for the missing edges and unconnected node pairs is commonly quantified by the area under curve (AUC) of the receiving operator characteristics (ROC; right panel).\n",
    "\n",
    "\n",
    "![](https://hrngok.github.io/images/roc10.jpg)\n",
    "\n",
    "\n",
    "## Issue of the prevailing benchmark\n",
    "\n",
    "Let us demonstrate the issue discussed above. We will use link prediction based on the preferential attachment, which gives the prediction score by   \n",
    "$$\n",
    "\\begin{align}\n",
    "s_{ij} = \\log(d_i)  + \\log(d_j),\n",
    "\\end{align}\n",
    "$$ \n",
    "where $d_i$ is the degree of node $i$. We assume that the network is undirected and unweighted. For the network, we use the following network: "
   ]
  },
  {
   "cell_type": "code",
   "execution_count": 1,
   "metadata": {},
   "outputs": [],
   "source": [
    "network_name = \"polblogs-rachith\"\n",
    "net_file_path = (\n",
    "    f\"../../mydata/derived/networks/preprocessed/{network_name}/edge_table.csv\"\n",
    ")"
   ]
  },
  {
   "attachments": {},
   "cell_type": "markdown",
   "metadata": {},
   "source": [
    "Let's import libraries and generate the dataset for link prediction:"
   ]
  },
  {
   "cell_type": "code",
   "execution_count": 2,
   "metadata": {},
   "outputs": [
    {
     "name": "stderr",
     "output_type": "stream",
     "text": [
      "/home/skojaku/anaconda3/envs/linkpred/lib/python3.9/site-packages/tqdm/auto.py:21: TqdmWarning: IProgress not found. Please update jupyter and ipywidgets. See https://ipywidgets.readthedocs.io/en/stable/user_install.html\n",
      "  from .autonotebook import tqdm as notebook_tqdm\n",
      "2023-04-24 06:16:42.244892: I tensorflow/compiler/jit/xla_cpu_device.cc:41] Not creating XLA devices, tf_xla_enable_xla_devices not set\n",
      "2023-04-24 06:16:42.245159: I tensorflow/core/platform/cpu_feature_guard.cc:142] This TensorFlow binary is optimized with oneAPI Deep Neural Network Library (oneDNN) to use the following CPU instructions in performance-critical operations:  SSE4.1 SSE4.2 AVX AVX2 FMA\n",
      "To enable them in other operations, rebuild TensorFlow with the appropriate compiler flags.\n",
      "2023-04-24 06:16:42.248000: I tensorflow/core/common_runtime/process_util.cc:146] Creating new thread pool with default inter op setting: 2. Tune using inter_op_parallelism_threads for best performance.\n"
     ]
    },
    {
     "name": "stdout",
     "output_type": "stream",
     "text": [
      "Ignore this message if you do not use Glove. Otherwise, install glove python package by 'pip install glove_python_binary' \n"
     ]
    },
    {
     "data": {
      "text/html": [
       "<div>\n",
       "<style scoped>\n",
       "    .dataframe tbody tr th:only-of-type {\n",
       "        vertical-align: middle;\n",
       "    }\n",
       "\n",
       "    .dataframe tbody tr th {\n",
       "        vertical-align: top;\n",
       "    }\n",
       "\n",
       "    .dataframe thead th {\n",
       "        text-align: right;\n",
       "    }\n",
       "</style>\n",
       "<table border=\"1\" class=\"dataframe\">\n",
       "  <thead>\n",
       "    <tr style=\"text-align: right;\">\n",
       "      <th></th>\n",
       "      <th>src</th>\n",
       "      <th>trg</th>\n",
       "      <th>isPositiveEdge</th>\n",
       "    </tr>\n",
       "  </thead>\n",
       "  <tbody>\n",
       "    <tr>\n",
       "      <th>0</th>\n",
       "      <td>7</td>\n",
       "      <td>674</td>\n",
       "      <td>1</td>\n",
       "    </tr>\n",
       "    <tr>\n",
       "      <th>1</th>\n",
       "      <td>186</td>\n",
       "      <td>317</td>\n",
       "      <td>1</td>\n",
       "    </tr>\n",
       "    <tr>\n",
       "      <th>2</th>\n",
       "      <td>40</td>\n",
       "      <td>839</td>\n",
       "      <td>1</td>\n",
       "    </tr>\n",
       "    <tr>\n",
       "      <th>8357</th>\n",
       "      <td>0</td>\n",
       "      <td>5</td>\n",
       "      <td>0</td>\n",
       "    </tr>\n",
       "    <tr>\n",
       "      <th>8358</th>\n",
       "      <td>0</td>\n",
       "      <td>6</td>\n",
       "      <td>0</td>\n",
       "    </tr>\n",
       "    <tr>\n",
       "      <th>8359</th>\n",
       "      <td>0</td>\n",
       "      <td>7</td>\n",
       "      <td>0</td>\n",
       "    </tr>\n",
       "  </tbody>\n",
       "</table>\n",
       "</div>"
      ],
      "text/plain": [
       "      src  trg  isPositiveEdge\n",
       "0       7  674               1\n",
       "1     186  317               1\n",
       "2      40  839               1\n",
       "8357    0    5               0\n",
       "8358    0    6               0\n",
       "8359    0    7               0"
      ]
     },
     "metadata": {},
     "output_type": "display_data"
    },
    {
     "name": "stdout",
     "output_type": "stream",
     "text": [
      "Fraction of connected node pairs in the test edge set: 0.011\n"
     ]
    }
   ],
   "source": [
    "from scipy import sparse\n",
    "import numpy as np\n",
    "import pandas as pd\n",
    "from sklearn.metrics import roc_auc_score, average_precision_score, roc_curve\n",
    "from tqdm.auto import tqdm\n",
    "import seaborn as sns\n",
    "import matplotlib.pyplot as plt\n",
    "\n",
    "# In-house\n",
    "from linkpred.LinkPredictionDataset import LinkPredictionDataset\n",
    "import embcom\n",
    "import utils\n",
    "\n",
    "edge_table = pd.read_csv(net_file_path, dtype={\"src\": int, \"trg\": int})\n",
    "net = utils.edge2network(src=edge_table[\"src\"], trg=edge_table[\"trg\"])\n",
    "\n",
    "# Construct the link prediction benchmark\n",
    "lpmodel = LinkPredictionDataset(\n",
    "    testEdgeFraction=0.5, negative_edge_sampler=\"uniform\", all_negatives=True\n",
    ")\n",
    "lpmodel.fit(net)\n",
    "train_net, test_edge_table = lpmodel.transform()\n",
    "\n",
    "# To ensure that the network is undirected and unweighted\n",
    "train_net = utils.toUndirected(train_net)\n",
    "\n",
    "# src_test, trg_test, y = test_edge_table[\"src\"].values, test_edge_table[\"trg\"].values, test_edge_table[\"isPositiveEdge\"].values\n",
    "display(test_edge_table.groupby(\"isPositiveEdge\").head(3))\n",
    "print(\n",
    "    f\"Fraction of connected node pairs in the test edge set: %.3f\"\n",
    "    % test_edge_table[\"isPositiveEdge\"].mean()\n",
    ")"
   ]
  },
  {
   "attachments": {},
   "cell_type": "markdown",
   "metadata": {},
   "source": [
    "- The `test_edge_table` contains pairs of node IDs, and the `isPositiveEdge` flag indicates whether there is an edge between the two nodes; a value of one indicates that there is an edge, and a value of zero indicates that there is not. This table contains *all* unconnected node pairs, which will be sampled. \n",
    "- `train_net` is the training network consists of edges that are observed for the algorithm to be tested.\n",
    "\n",
    "\n",
    "Let us calculate the prediction score based on the preferential attachment:"
   ]
  },
  {
   "cell_type": "code",
   "execution_count": 3,
   "metadata": {},
   "outputs": [],
   "source": [
    "deg = np.array(train_net.sum(axis=1)).reshape(-1)\n",
    "log_deg = np.log(np.maximum(deg, 1))\n",
    "S = np.add.outer(log_deg, log_deg)"
   ]
  },
  {
   "attachments": {},
   "cell_type": "markdown",
   "metadata": {},
   "source": [
    "Now, let's compare the prediction score for the missing edges and unconnected node pairs. "
   ]
  },
  {
   "cell_type": "code",
   "execution_count": 4,
   "metadata": {},
   "outputs": [
    {
     "data": {
      "image/png": "[encoded data removed]",
      "text/plain": [
       "<Figure size 400x400 with 1 Axes>"
      ]
     },
     "metadata": {},
     "output_type": "display_data"
    }
   ],
   "source": [
    "sns.set_style(\"white\")\n",
    "sns.set(font_scale=1.2)\n",
    "sns.set_style(\"ticks\")\n",
    "fig, ax = plt.subplots(figsize=(4, 4))\n",
    "\n",
    "src_test, trg_test, y = tuple(test_edge_table.values.T)\n",
    "ypred = S[(src_test, trg_test)]\n",
    "aucroc = roc_auc_score(y, ypred)\n",
    "\n",
    "df = pd.DataFrame(\n",
    "    {\"Group\": map(lambda x: [\"Unconnected\", \"Connected\"][x], y), \"Sij\": ypred}\n",
    ")\n",
    "ax = sns.histplot(\n",
    "    data=df, x=\"Sij\", hue=\"Group\", common_norm=False, stat=\"probability\", ax=ax\n",
    ")\n",
    "ax.set_title(f\"AUC-ROC: {aucroc:.3f}\")\n",
    "sns.despine()"
   ]
  },
  {
   "attachments": {},
   "cell_type": "markdown",
   "metadata": {},
   "source": [
    "It's impressive AUC-ROC score. Indeed, the preferential attachment achieves surprisingly (and spuriously) high AUC-ROC score given its simple formula.  Now, let's zoom in the area, where prediction score $s_{ij}$ is high. This time, we take the count as the y-axis instead of the probability:  "
   ]
  },
  {
   "cell_type": "code",
   "execution_count": 5,
   "metadata": {},
   "outputs": [
    {
     "name": "stdout",
     "output_type": "stream",
     "text": [
      "Sort the link prediction by Sij\n"
     ]
    },
    {
     "data": {
      "text/html": [
       "<div>\n",
       "<style scoped>\n",
       "    .dataframe tbody tr th:only-of-type {\n",
       "        vertical-align: middle;\n",
       "    }\n",
       "\n",
       "    .dataframe tbody tr th {\n",
       "        vertical-align: top;\n",
       "    }\n",
       "\n",
       "    .dataframe thead th {\n",
       "        text-align: right;\n",
       "    }\n",
       "</style>\n",
       "<table border=\"1\" class=\"dataframe\">\n",
       "  <thead>\n",
       "    <tr style=\"text-align: right;\">\n",
       "      <th></th>\n",
       "      <th>Group</th>\n",
       "      <th>Sij</th>\n",
       "    </tr>\n",
       "  </thead>\n",
       "  <tbody>\n",
       "    <tr>\n",
       "      <th>16066</th>\n",
       "      <td>Unconnected</td>\n",
       "      <td>10.199696</td>\n",
       "    </tr>\n",
       "    <tr>\n",
       "      <th>11865</th>\n",
       "      <td>Unconnected</td>\n",
       "      <td>10.096378</td>\n",
       "    </tr>\n",
       "    <tr>\n",
       "      <th>11869</th>\n",
       "      <td>Unconnected</td>\n",
       "      <td>10.084183</td>\n",
       "    </tr>\n",
       "    <tr>\n",
       "      <th>16065</th>\n",
       "      <td>Unconnected</td>\n",
       "      <td>10.061773</td>\n",
       "    </tr>\n",
       "    <tr>\n",
       "      <th>11868</th>\n",
       "      <td>Unconnected</td>\n",
       "      <td>9.946260</td>\n",
       "    </tr>\n",
       "    <tr>\n",
       "      <th>16063</th>\n",
       "      <td>Unconnected</td>\n",
       "      <td>9.893437</td>\n",
       "    </tr>\n",
       "    <tr>\n",
       "      <th>2562</th>\n",
       "      <td>Connected</td>\n",
       "      <td>9.777924</td>\n",
       "    </tr>\n",
       "    <tr>\n",
       "      <th>15094</th>\n",
       "      <td>Unconnected</td>\n",
       "      <td>9.775881</td>\n",
       "    </tr>\n",
       "    <tr>\n",
       "      <th>16064</th>\n",
       "      <td>Unconnected</td>\n",
       "      <td>9.759906</td>\n",
       "    </tr>\n",
       "    <tr>\n",
       "      <th>5904</th>\n",
       "      <td>Connected</td>\n",
       "      <td>9.747711</td>\n",
       "    </tr>\n",
       "  </tbody>\n",
       "</table>\n",
       "</div>"
      ],
      "text/plain": [
       "             Group        Sij\n",
       "16066  Unconnected  10.199696\n",
       "11865  Unconnected  10.096378\n",
       "11869  Unconnected  10.084183\n",
       "16065  Unconnected  10.061773\n",
       "11868  Unconnected   9.946260\n",
       "16063  Unconnected   9.893437\n",
       "2562     Connected   9.777924\n",
       "15094  Unconnected   9.775881\n",
       "16064  Unconnected   9.759906\n",
       "5904     Connected   9.747711"
      ]
     },
     "execution_count": 5,
     "metadata": {},
     "output_type": "execute_result"
    },
    {
     "data": {
      "image/png": "[encoded data removed]",
      "text/plain": [
       "<Figure size 400x400 with 1 Axes>"
      ]
     },
     "metadata": {},
     "output_type": "display_data"
    }
   ],
   "source": [
    "sns.set_style(\"white\")\n",
    "sns.set(font_scale=1)\n",
    "sns.set_style(\"ticks\")\n",
    "fig, ax = plt.subplots(figsize=(4, 4))\n",
    "\n",
    "src_test, trg_test, y = tuple(test_edge_table.values.T)\n",
    "ypred = S[(src_test, trg_test)]\n",
    "aucroc = roc_auc_score(y, ypred)\n",
    "\n",
    "df = pd.DataFrame(\n",
    "    {\n",
    "        \"Group\": map(lambda x: [\"Unconnected\", \"Connected\"][x], y),\n",
    "        \"Sij\": ypred,\n",
    "    }\n",
    ")\n",
    "s = np.quantile(df[\"Sij\"], 0.99)\n",
    "df = df[df[\"Sij\"] >= s]\n",
    "ax = sns.histplot(\n",
    "    data=df,\n",
    "    x=\"Sij\",\n",
    "    hue=\"Group\",\n",
    "    common_norm=False,\n",
    "    stat=\"count\",\n",
    "    hue_order=[\"Connected\", \"Unconnected\"],\n",
    "    ax=ax,\n",
    ")\n",
    "ax.set_yscale(\"log\")\n",
    "ax.set_title(f\"AUC-ROC: {aucroc:.3f}\")\n",
    "# ax.legend(frameon=False, fontsize=12, labels = [\"Connected\", \"Unconnected\"])\n",
    "sns.despine()\n",
    "print(\"Sort the link prediction by Sij\")\n",
    "df.sort_values(by=\"Sij\", ascending=False).head(10)"
   ]
  },
  {
   "attachments": {},
   "cell_type": "markdown",
   "metadata": {},
   "source": [
    "The right-tail of the distributions provide a critical observation: preferential attachment incorrectly predicted the edges with the highest scores. In fact, as we go through from the highest to lowest scoring link prediction, the preferential attachment made the first correct prediction after failing eight predictions. Discuss the implication for information retrieval. \n",
    "\n",
    "The result provides a practical implication: preferential attachment is not a reliable link prediction method. This could be a major issue for recommendation systems because making many false predictions may harm user experience.\n",
    "\n",
    "To be worse, most false predictions are unlikely to be counted in the prevailing benchmark because of the sampling of unconnected node pairs. To see this, let us randomly sample the unconnected node pairs, with the same size as the positive edges by following the accepted practice."
   ]
  },
  {
   "cell_type": "code",
   "execution_count": 6,
   "metadata": {},
   "outputs": [
    {
     "name": "stdout",
     "output_type": "stream",
     "text": [
      "Fraction of connected node pairs in the test edge set: 0.50\n"
     ]
    }
   ],
   "source": [
    "n_positives = int(test_edge_table[\"isPositiveEdge\"].sum())\n",
    "sampled_test_edge_table = (\n",
    "    test_edge_table.sample(frac=1).groupby(\"isPositiveEdge\").head(n_positives)\n",
    ")\n",
    "print(\n",
    "    f\"Fraction of connected node pairs in the test edge set: %.2f\"\n",
    "    % sampled_test_edge_table[\"isPositiveEdge\"].mean()\n",
    ")"
   ]
  },
  {
   "attachments": {},
   "cell_type": "markdown",
   "metadata": {},
   "source": [
    "Second, let's see the distribution of the prediction score:"
   ]
  },
  {
   "cell_type": "code",
   "execution_count": 7,
   "metadata": {},
   "outputs": [
    {
     "name": "stdout",
     "output_type": "stream",
     "text": [
      "Sort the link prediction by Sij\n"
     ]
    },
    {
     "data": {
      "text/html": [
       "<div>\n",
       "<style scoped>\n",
       "    .dataframe tbody tr th:only-of-type {\n",
       "        vertical-align: middle;\n",
       "    }\n",
       "\n",
       "    .dataframe tbody tr th {\n",
       "        vertical-align: top;\n",
       "    }\n",
       "\n",
       "    .dataframe thead th {\n",
       "        text-align: right;\n",
       "    }\n",
       "</style>\n",
       "<table border=\"1\" class=\"dataframe\">\n",
       "  <thead>\n",
       "    <tr style=\"text-align: right;\">\n",
       "      <th></th>\n",
       "      <th>Group</th>\n",
       "      <th>Sij</th>\n",
       "    </tr>\n",
       "  </thead>\n",
       "  <tbody>\n",
       "    <tr>\n",
       "      <th>15495</th>\n",
       "      <td>Connected</td>\n",
       "      <td>9.777924</td>\n",
       "    </tr>\n",
       "    <tr>\n",
       "      <th>12159</th>\n",
       "      <td>Connected</td>\n",
       "      <td>9.747711</td>\n",
       "    </tr>\n",
       "    <tr>\n",
       "      <th>11304</th>\n",
       "      <td>Connected</td>\n",
       "      <td>9.670294</td>\n",
       "    </tr>\n",
       "    <tr>\n",
       "      <th>14068</th>\n",
       "      <td>Connected</td>\n",
       "      <td>9.658098</td>\n",
       "    </tr>\n",
       "    <tr>\n",
       "      <th>14218</th>\n",
       "      <td>Connected</td>\n",
       "      <td>9.644393</td>\n",
       "    </tr>\n",
       "    <tr>\n",
       "      <th>12963</th>\n",
       "      <td>Connected</td>\n",
       "      <td>9.609787</td>\n",
       "    </tr>\n",
       "    <tr>\n",
       "      <th>14933</th>\n",
       "      <td>Connected</td>\n",
       "      <td>9.605553</td>\n",
       "    </tr>\n",
       "    <tr>\n",
       "      <th>15135</th>\n",
       "      <td>Connected</td>\n",
       "      <td>9.604610</td>\n",
       "    </tr>\n",
       "    <tr>\n",
       "      <th>15080</th>\n",
       "      <td>Connected</td>\n",
       "      <td>9.583282</td>\n",
       "    </tr>\n",
       "    <tr>\n",
       "      <th>16304</th>\n",
       "      <td>Connected</td>\n",
       "      <td>9.554781</td>\n",
       "    </tr>\n",
       "  </tbody>\n",
       "</table>\n",
       "</div>"
      ],
      "text/plain": [
       "           Group       Sij\n",
       "15495  Connected  9.777924\n",
       "12159  Connected  9.747711\n",
       "11304  Connected  9.670294\n",
       "14068  Connected  9.658098\n",
       "14218  Connected  9.644393\n",
       "12963  Connected  9.609787\n",
       "14933  Connected  9.605553\n",
       "15135  Connected  9.604610\n",
       "15080  Connected  9.583282\n",
       "16304  Connected  9.554781"
      ]
     },
     "execution_count": 7,
     "metadata": {},
     "output_type": "execute_result"
    },
    {
     "data": {
      "image/png": "[encoded data removed]",
      "text/plain": [
       "<Figure size 400x400 with 1 Axes>"
      ]
     },
     "metadata": {},
     "output_type": "display_data"
    }
   ],
   "source": [
    "sns.set_style(\"white\")\n",
    "sns.set(font_scale=1)\n",
    "sns.set_style(\"ticks\")\n",
    "fig, ax = plt.subplots(figsize=(4, 4))\n",
    "\n",
    "src_test, trg_test, y = tuple(sampled_test_edge_table.values.T)\n",
    "ypred = S[(src_test, trg_test)]\n",
    "aucroc = roc_auc_score(y, ypred)\n",
    "\n",
    "df = pd.DataFrame(\n",
    "    {\n",
    "        \"Group\": map(lambda x: [\"Unconnected\", \"Connected\"][x], y),\n",
    "        \"Sij\": ypred,\n",
    "    }\n",
    ")\n",
    "df = df[df[\"Sij\"] >= s]\n",
    "ax = sns.histplot(\n",
    "    data=df,\n",
    "    x=\"Sij\",\n",
    "    hue=\"Group\",\n",
    "    common_norm=False,\n",
    "    stat=\"count\",\n",
    "    hue_order=[\"Connected\", \"Unconnected\"],\n",
    "    ax=ax,\n",
    ")\n",
    "ax.set_yscale(\"log\")\n",
    "ax.set_title(f\"AUC-ROC: {aucroc:.2f}\")\n",
    "sns.despine()\n",
    "print(\"Sort the link prediction by Sij\")\n",
    "df.sort_values(by=\"Sij\", ascending=False).head(10)"
   ]
  },
  {
   "attachments": {},
   "cell_type": "markdown",
   "metadata": {},
   "source": [
    "Most high-scoring unconnected node pairs disappear, since they make up a small portion of all unconnected node pairs and therefore are unlikely to be chosen for evaluation.\n",
    "\n",
    "Now, let's consider another more sophisticated prediction algorithm: the graph convolution network (GCN). We use GCN to learn a vector representation of nodes and compute the prediction score $s_{ij}$ by the dot-similarity of two nodes.  "
   ]
  },
  {
   "cell_type": "code",
   "execution_count": 8,
   "metadata": {},
   "outputs": [
    {
     "name": "stderr",
     "output_type": "stream",
     "text": [
      "100%|██████████| 1001/1001 [00:20<00:00, 48.14it/s]\n"
     ]
    }
   ],
   "source": [
    "# Learning embedding \n",
    "emb = utils.embedding_models[\"GCN\"](train_net, dim = 64, device = \"cuda:0\")\n",
    "\n",
    "# making prediction by the dot-similarity \n",
    "S = emb @ emb.T"
   ]
  },
  {
   "attachments": {},
   "cell_type": "markdown",
   "metadata": {},
   "source": [
    "The distributions of prediction scores for the missing and unconnected node pairs:"
   ]
  },
  {
   "cell_type": "code",
   "execution_count": 9,
   "metadata": {},
   "outputs": [
    {
     "data": {
      "image/png": "[encoded data removed]",
      "text/plain": [
       "<Figure size 400x400 with 1 Axes>"
      ]
     },
     "metadata": {},
     "output_type": "display_data"
    }
   ],
   "source": [
    "sns.set_style(\"white\")\n",
    "sns.set(font_scale=1.2)\n",
    "sns.set_style(\"ticks\")\n",
    "fig, ax = plt.subplots(figsize=(4, 4))\n",
    "\n",
    "src_test, trg_test, y = tuple(test_edge_table.values.T)\n",
    "ypred = S[(src_test, trg_test)]\n",
    "aucroc = roc_auc_score(y, ypred)\n",
    "\n",
    "df = pd.DataFrame(\n",
    "    {\"Group\": map(lambda x: [\"Unconnected\", \"Connected\"][x], y), \"Sij\": ypred}\n",
    ")\n",
    "ax = sns.histplot(\n",
    "    data=df, x=\"Sij\", hue=\"Group\", common_norm=False, stat=\"probability\", ax=ax\n",
    ")\n",
    "ax.set_title(f\"AUC-ROC: {aucroc:.3f}\")\n",
    "sns.despine()"
   ]
  },
  {
   "attachments": {},
   "cell_type": "markdown",
   "metadata": {},
   "source": [
    "Notice that the AUC-ROC score is *lower* than the preferential attachment. And thus, with the current link prediction benchmark, GCN is not deemed as a better prediction method. Or is it? Let's zoom in the right-tail of the distribution to see the top-scoring predictions.  "
   ]
  },
  {
   "cell_type": "code",
   "execution_count": 10,
   "metadata": {},
   "outputs": [
    {
     "name": "stdout",
     "output_type": "stream",
     "text": [
      "Sort the link prediction by Sij\n"
     ]
    },
    {
     "data": {
      "text/html": [
       "<div>\n",
       "<style scoped>\n",
       "    .dataframe tbody tr th:only-of-type {\n",
       "        vertical-align: middle;\n",
       "    }\n",
       "\n",
       "    .dataframe tbody tr th {\n",
       "        vertical-align: top;\n",
       "    }\n",
       "\n",
       "    .dataframe thead th {\n",
       "        text-align: right;\n",
       "    }\n",
       "</style>\n",
       "<table border=\"1\" class=\"dataframe\">\n",
       "  <thead>\n",
       "    <tr style=\"text-align: right;\">\n",
       "      <th></th>\n",
       "      <th>Group</th>\n",
       "      <th>Sij</th>\n",
       "    </tr>\n",
       "  </thead>\n",
       "  <tbody>\n",
       "    <tr>\n",
       "      <th>624580</th>\n",
       "      <td>Unconnected</td>\n",
       "      <td>3.361491</td>\n",
       "    </tr>\n",
       "    <tr>\n",
       "      <th>729498</th>\n",
       "      <td>Unconnected</td>\n",
       "      <td>2.896760</td>\n",
       "    </tr>\n",
       "    <tr>\n",
       "      <th>723096</th>\n",
       "      <td>Unconnected</td>\n",
       "      <td>2.883557</td>\n",
       "    </tr>\n",
       "    <tr>\n",
       "      <th>723769</th>\n",
       "      <td>Unconnected</td>\n",
       "      <td>2.760031</td>\n",
       "    </tr>\n",
       "    <tr>\n",
       "      <th>730485</th>\n",
       "      <td>Unconnected</td>\n",
       "      <td>2.753183</td>\n",
       "    </tr>\n",
       "    <tr>\n",
       "      <th>480593</th>\n",
       "      <td>Unconnected</td>\n",
       "      <td>2.712284</td>\n",
       "    </tr>\n",
       "    <tr>\n",
       "      <th>480633</th>\n",
       "      <td>Unconnected</td>\n",
       "      <td>2.712284</td>\n",
       "    </tr>\n",
       "    <tr>\n",
       "      <th>723700</th>\n",
       "      <td>Unconnected</td>\n",
       "      <td>2.676517</td>\n",
       "    </tr>\n",
       "    <tr>\n",
       "      <th>722988</th>\n",
       "      <td>Unconnected</td>\n",
       "      <td>2.658549</td>\n",
       "    </tr>\n",
       "    <tr>\n",
       "      <th>729436</th>\n",
       "      <td>Unconnected</td>\n",
       "      <td>2.657607</td>\n",
       "    </tr>\n",
       "  </tbody>\n",
       "</table>\n",
       "</div>"
      ],
      "text/plain": [
       "              Group       Sij\n",
       "624580  Unconnected  3.361491\n",
       "729498  Unconnected  2.896760\n",
       "723096  Unconnected  2.883557\n",
       "723769  Unconnected  2.760031\n",
       "730485  Unconnected  2.753183\n",
       "480593  Unconnected  2.712284\n",
       "480633  Unconnected  2.712284\n",
       "723700  Unconnected  2.676517\n",
       "722988  Unconnected  2.658549\n",
       "729436  Unconnected  2.657607"
      ]
     },
     "execution_count": 10,
     "metadata": {},
     "output_type": "execute_result"
    },
    {
     "data": {
      "image/png": "[encoded data removed]",
      "text/plain": [
       "<Figure size 400x400 with 1 Axes>"
      ]
     },
     "metadata": {},
     "output_type": "display_data"
    }
   ],
   "source": [
    "sns.set_style(\"white\")\n",
    "sns.set(font_scale=1)\n",
    "sns.set_style(\"ticks\")\n",
    "fig, ax = plt.subplots(figsize=(4, 4))\n",
    "\n",
    "src_test, trg_test, y = tuple(test_edge_table.values.T)\n",
    "ypred = S[(src_test, trg_test)]\n",
    "aucroc = roc_auc_score(y, ypred)\n",
    "\n",
    "df = pd.DataFrame(\n",
    "    {\n",
    "        \"Group\": map(lambda x: [\"Unconnected\", \"Connected\"][x], y),\n",
    "        \"Sij\": np.log(np.maximum(ypred, 1)),\n",
    "    }\n",
    ")\n",
    "s = np.quantile(df[\"Sij\"], 0.99)\n",
    "df = df[df[\"Sij\"] >= s]\n",
    "ax = sns.histplot(\n",
    "    data=df,\n",
    "    x=\"Sij\",\n",
    "    hue=\"Group\",\n",
    "    common_norm=False,\n",
    "    stat=\"count\",\n",
    "    hue_order=[\"Connected\", \"Unconnected\"],\n",
    "    ax=ax,\n",
    ")\n",
    "ax.set_yscale(\"log\")\n",
    "ax.set_title(f\"AUC-ROC: {aucroc:.3f}\")\n",
    "# ax.legend(frameon=False, fontsize=12, labels = [\"Connected\", \"Unconnected\"])\n",
    "sns.despine()\n",
    "print(\"Sort the link prediction by Sij\")\n",
    "df.sort_values(by=\"Sij\", ascending=False).head(10)"
   ]
  },
  {
   "attachments": {},
   "cell_type": "markdown",
   "metadata": {},
   "source": [
    "Although GCN failed for its highest-scoring prediction, it accurately predicted six missing edges among the top 9 prediction, which is six times better than the preferential attachment in terms of precision. In other words, GCN provides more reliable prediction with much higher precision than preferential attachment. \n",
    "\n",
    "As is seen for the preferential attachment, sampling the unconnected node pairs leads to a spuriously better picture: "
   ]
  },
  {
   "cell_type": "code",
   "execution_count": 11,
   "metadata": {},
   "outputs": [
    {
     "name": "stdout",
     "output_type": "stream",
     "text": [
      "Sort the link prediction by Sij\n"
     ]
    },
    {
     "data": {
      "text/html": [
       "<div>\n",
       "<style scoped>\n",
       "    .dataframe tbody tr th:only-of-type {\n",
       "        vertical-align: middle;\n",
       "    }\n",
       "\n",
       "    .dataframe tbody tr th {\n",
       "        vertical-align: top;\n",
       "    }\n",
       "\n",
       "    .dataframe thead th {\n",
       "        text-align: right;\n",
       "    }\n",
       "</style>\n",
       "<table border=\"1\" class=\"dataframe\">\n",
       "  <thead>\n",
       "    <tr style=\"text-align: right;\">\n",
       "      <th></th>\n",
       "      <th>Group</th>\n",
       "      <th>Sij</th>\n",
       "    </tr>\n",
       "  </thead>\n",
       "  <tbody>\n",
       "    <tr>\n",
       "      <th>14933</th>\n",
       "      <td>Connected</td>\n",
       "      <td>2.480293</td>\n",
       "    </tr>\n",
       "    <tr>\n",
       "      <th>14218</th>\n",
       "      <td>Connected</td>\n",
       "      <td>2.430011</td>\n",
       "    </tr>\n",
       "    <tr>\n",
       "      <th>16304</th>\n",
       "      <td>Connected</td>\n",
       "      <td>2.409331</td>\n",
       "    </tr>\n",
       "    <tr>\n",
       "      <th>11561</th>\n",
       "      <td>Connected</td>\n",
       "      <td>2.322891</td>\n",
       "    </tr>\n",
       "    <tr>\n",
       "      <th>9547</th>\n",
       "      <td>Connected</td>\n",
       "      <td>2.309209</td>\n",
       "    </tr>\n",
       "    <tr>\n",
       "      <th>13798</th>\n",
       "      <td>Connected</td>\n",
       "      <td>2.262548</td>\n",
       "    </tr>\n",
       "    <tr>\n",
       "      <th>15135</th>\n",
       "      <td>Connected</td>\n",
       "      <td>2.259558</td>\n",
       "    </tr>\n",
       "    <tr>\n",
       "      <th>10070</th>\n",
       "      <td>Connected</td>\n",
       "      <td>2.223591</td>\n",
       "    </tr>\n",
       "    <tr>\n",
       "      <th>13895</th>\n",
       "      <td>Connected</td>\n",
       "      <td>2.222615</td>\n",
       "    </tr>\n",
       "    <tr>\n",
       "      <th>12803</th>\n",
       "      <td>Connected</td>\n",
       "      <td>2.212343</td>\n",
       "    </tr>\n",
       "  </tbody>\n",
       "</table>\n",
       "</div>"
      ],
      "text/plain": [
       "           Group       Sij\n",
       "14933  Connected  2.480293\n",
       "14218  Connected  2.430011\n",
       "16304  Connected  2.409331\n",
       "11561  Connected  2.322891\n",
       "9547   Connected  2.309209\n",
       "13798  Connected  2.262548\n",
       "15135  Connected  2.259558\n",
       "10070  Connected  2.223591\n",
       "13895  Connected  2.222615\n",
       "12803  Connected  2.212343"
      ]
     },
     "execution_count": 11,
     "metadata": {},
     "output_type": "execute_result"
    },
    {
     "data": {
      "image/png": "[encoded data removed]",
      "text/plain": [
       "<Figure size 400x400 with 1 Axes>"
      ]
     },
     "metadata": {},
     "output_type": "display_data"
    }
   ],
   "source": [
    "\n",
    "sns.set_style(\"white\")\n",
    "sns.set(font_scale=1)\n",
    "sns.set_style(\"ticks\")\n",
    "fig, ax = plt.subplots(figsize=(4, 4))\n",
    "\n",
    "src_test, trg_test, y = tuple(sampled_test_edge_table.values.T)\n",
    "ypred = S[(src_test, trg_test)]\n",
    "aucroc = roc_auc_score(y, ypred)\n",
    "\n",
    "df = pd.DataFrame(\n",
    "    {\n",
    "        \"Group\": map(lambda x: [\"Unconnected\", \"Connected\"][x], y),\n",
    "        \"Sij\": np.log(np.maximum(ypred, 1)),\n",
    "    }\n",
    ")\n",
    "s = np.quantile(df[\"Sij\"], 0.99)\n",
    "df = df[df[\"Sij\"] >= s]\n",
    "ax = sns.histplot(\n",
    "    data=df,\n",
    "    x=\"Sij\",\n",
    "    hue=\"Group\",\n",
    "    common_norm=False,\n",
    "    stat=\"count\",\n",
    "    hue_order=[\"Connected\", \"Unconnected\"],\n",
    "    ax=ax,\n",
    ")\n",
    "ax.set_yscale(\"log\")\n",
    "ax.set_title(f\"AUC-ROC: {aucroc:.3f}\")\n",
    "# ax.legend(frameon=False, fontsize=12, labels = [\"Connected\", \"Unconnected\"])\n",
    "sns.despine()\n",
    "print(\"Sort the link prediction by Sij\")\n",
    "df.sort_values(by=\"Sij\", ascending=False).head(10)"
   ]
  },
  {
   "attachments": {},
   "cell_type": "markdown",
   "metadata": {},
   "source": [
    "The results presented in this notebook serves as a warning that the current link prediction benchmark fails to accurately measure the precision of different link prediction models. This inadequacy is attributed to two factors: \n",
    "1. High-scoring predictions are more important than low-scoring prediction in applications, although they have a little impact on AUC-ROC, as it reflects the overall accuracy of prediction. \n",
    "2. Sampling unconnected node pairs removes many false high-scoring predictions, making it challenging to assess the precision of link prediction. \n"
   ]
  }
 ],
 "metadata": {
  "kernelspec": {
   "display_name": "linkpred",
   "language": "python",
   "name": "python3"
  },
  "language_info": {
   "codemirror_mode": {
    "name": "ipython",
    "version": 3
   },
   "file_extension": ".py",
   "mimetype": "text/x-python",
   "name": "python",
   "nbconvert_exporter": "python",
   "pygments_lexer": "ipython3",
   "version": "3.9.16"
  },
  "orig_nbformat": 4
 },
 "nbformat": 4,
 "nbformat_minor": 2
}
